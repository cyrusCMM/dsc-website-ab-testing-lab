{
 "cells": [
  {
   "attachments": {},
   "cell_type": "markdown",
   "metadata": {},
   "source": [
    "# Website A/B Testing - Lab\n",
    "\n",
    "## Introduction\n",
    "\n",
    "In this lab, you'll get another chance to practice your skills at conducting a full A/B test analysis. It will also be a chance to practice your data exploration and processing skills! The scenario you'll be investigating is data collected from the homepage of a music app page for audacity.\n",
    "\n",
    "## Objectives\n",
    "\n",
    "You will be able to:\n",
    "* Analyze the data from a website A/B test to draw relevant conclusions\n",
    "* Explore and analyze web action data"
   ]
  },
  {
   "attachments": {},
   "cell_type": "markdown",
   "metadata": {},
   "source": [
    "## Exploratory Analysis\n",
    "\n",
    "Start by loading in the dataset stored in the file 'homepage_actions.csv'. Then conduct an exploratory analysis to get familiar with the data."
   ]
  },
  {
   "attachments": {},
   "cell_type": "markdown",
   "metadata": {},
   "source": [
    "> Hints:\n",
    "    * Start investigating the id column:\n",
    "        * How many viewers also clicked?\n",
    "        * Are there any anomalies with the data; did anyone click who didn't view?\n",
    "        * Is there any overlap between the control and experiment groups? \n",
    "            * If so, how do you plan to account for this in your experimental design?"
   ]
  },
  {
   "cell_type": "code",
   "execution_count": 3,
   "metadata": {},
   "outputs": [
    {
     "name": "stdout",
     "output_type": "stream",
     "text": [
      "(8188, 4)\n"
     ]
    },
    {
     "data": {
      "text/html": [
       "<div>\n",
       "<style scoped>\n",
       "    .dataframe tbody tr th:only-of-type {\n",
       "        vertical-align: middle;\n",
       "    }\n",
       "\n",
       "    .dataframe tbody tr th {\n",
       "        vertical-align: top;\n",
       "    }\n",
       "\n",
       "    .dataframe thead th {\n",
       "        text-align: right;\n",
       "    }\n",
       "</style>\n",
       "<table border=\"1\" class=\"dataframe\">\n",
       "  <thead>\n",
       "    <tr style=\"text-align: right;\">\n",
       "      <th></th>\n",
       "      <th>timestamp</th>\n",
       "      <th>id</th>\n",
       "      <th>group</th>\n",
       "      <th>action</th>\n",
       "    </tr>\n",
       "  </thead>\n",
       "  <tbody>\n",
       "    <tr>\n",
       "      <th>0</th>\n",
       "      <td>2016-09-24 17:42:27.839496</td>\n",
       "      <td>804196</td>\n",
       "      <td>experiment</td>\n",
       "      <td>view</td>\n",
       "    </tr>\n",
       "    <tr>\n",
       "      <th>1</th>\n",
       "      <td>2016-09-24 19:19:03.542569</td>\n",
       "      <td>434745</td>\n",
       "      <td>experiment</td>\n",
       "      <td>view</td>\n",
       "    </tr>\n",
       "    <tr>\n",
       "      <th>2</th>\n",
       "      <td>2016-09-24 19:36:00.944135</td>\n",
       "      <td>507599</td>\n",
       "      <td>experiment</td>\n",
       "      <td>view</td>\n",
       "    </tr>\n",
       "    <tr>\n",
       "      <th>3</th>\n",
       "      <td>2016-09-24 19:59:02.646620</td>\n",
       "      <td>671993</td>\n",
       "      <td>control</td>\n",
       "      <td>view</td>\n",
       "    </tr>\n",
       "    <tr>\n",
       "      <th>4</th>\n",
       "      <td>2016-09-24 20:26:14.466886</td>\n",
       "      <td>536734</td>\n",
       "      <td>experiment</td>\n",
       "      <td>view</td>\n",
       "    </tr>\n",
       "  </tbody>\n",
       "</table>\n",
       "</div>"
      ],
      "text/plain": [
       "                    timestamp      id       group action\n",
       "0  2016-09-24 17:42:27.839496  804196  experiment   view\n",
       "1  2016-09-24 19:19:03.542569  434745  experiment   view\n",
       "2  2016-09-24 19:36:00.944135  507599  experiment   view\n",
       "3  2016-09-24 19:59:02.646620  671993     control   view\n",
       "4  2016-09-24 20:26:14.466886  536734  experiment   view"
      ]
     },
     "execution_count": 3,
     "metadata": {},
     "output_type": "execute_result"
    }
   ],
   "source": [
    "#Your code here\n",
    "import pandas as pd\n",
    "\n",
    "# Load data\n",
    "df = pd.read_csv(\"homepage_actions.csv\")\n",
    "\n",
    "# Preview\n",
    "print(df.shape)\n",
    "df.head()\n",
    "\n",
    "\n"
   ]
  },
  {
   "cell_type": "code",
   "execution_count": 4,
   "metadata": {},
   "outputs": [
    {
     "name": "stdout",
     "output_type": "stream",
     "text": [
      "group\n",
      "control       4264\n",
      "experiment    3924\n",
      "Name: count, dtype: int64\n",
      "action\n",
      "view     6328\n",
      "click    1860\n",
      "Name: count, dtype: int64\n"
     ]
    }
   ],
   "source": [
    "print(df['group'].value_counts())\n",
    "print(df['action'].value_counts())"
   ]
  },
  {
   "attachments": {},
   "cell_type": "markdown",
   "metadata": {},
   "source": [
    "## Conduct a Statistical Test\n",
    "\n",
    "Conduct a statistical test to determine whether the experimental homepage was more effective than that of the control group."
   ]
  },
  {
   "cell_type": "code",
   "execution_count": 5,
   "metadata": {},
   "outputs": [
    {
     "name": "stdout",
     "output_type": "stream",
     "text": [
      "=== A/B Test: Homepage Conversion ===\n",
      "Control:    932/3332  (CTR = 27.9712%) [95% CI 26.4732%, 29.5200%]\n",
      "Experiment: 928/2996  (CTR = 30.9746%) [95% CI 29.3442%, 32.6538%]\n",
      "\n",
      "Z-statistic (one-tailed exp>ctl): 2.6186\n",
      "p-value (one-tailed):             0.004415\n",
      "p-value (two-tailed, optional):   0.008830\n",
      "\n",
      "Decision at α=0.05: REJECT H0 (experiment > control)\n"
     ]
    }
   ],
   "source": [
    "#Your code here\n",
    "# --- A/B Test: Experiment vs Control (Clicks given Views) ---\n",
    "\n",
    "import pandas as pd\n",
    "import numpy as np\n",
    "from statsmodels.stats.proportion import proportions_ztest, proportion_confint\n",
    "\n",
    "# If df isn't already loaded, uncomment:\n",
    "# df = pd.read_csv(\"homepage_actions.csv\")\n",
    "\n",
    "# 1) Build per-user action table to ensure one view/click per user\n",
    "#    (unique user ids for each action per group)\n",
    "group_action = (\n",
    "    df.pivot_table(index=\"group\", columns=\"action\", values=\"id\",\n",
    "                   aggfunc=\"nunique\", fill_value=0)\n",
    ")\n",
    "\n",
    "# Total viewers per group (denominator)\n",
    "group_action[\"total\"] = group_action[\"view\"]\n",
    "\n",
    "# Extract counts\n",
    "control_clicks = int(group_action.loc[\"control\", \"click\"])\n",
    "control_total  = int(group_action.loc[\"control\", \"total\"])\n",
    "exp_clicks     = int(group_action.loc[\"experiment\", \"click\"])\n",
    "exp_total      = int(group_action.loc[\"experiment\", \"total\"])\n",
    "\n",
    "# 2) Conversion rates\n",
    "control_rate = control_clicks / control_total\n",
    "exp_rate     = exp_clicks / exp_total\n",
    "\n",
    "# 3) Two-proportion z-test (one-tailed: experiment > control)\n",
    "count = np.array([exp_clicks, control_clicks])\n",
    "nobs  = np.array([exp_total,  control_total])\n",
    "z_stat, p_value_one_tailed = proportions_ztest(count, nobs, alternative=\"larger\")\n",
    "\n",
    "# (Optional) two-tailed p-value if you need it:\n",
    "_, p_value_two_tailed = proportions_ztest(count, nobs, alternative=\"two-sided\")\n",
    "\n",
    "# 4) 95% confidence intervals for each group’s conversion rate (Wilson)\n",
    "ci_exp_low, ci_exp_high = proportion_confint(exp_clicks, exp_total, alpha=0.05, method=\"wilson\")\n",
    "ci_ctl_low, ci_ctl_high = proportion_confint(control_clicks, control_total, alpha=0.05, method=\"wilson\")\n",
    "\n",
    "# 5) Pretty print\n",
    "print(\"=== A/B Test: Homepage Conversion ===\")\n",
    "print(f\"Control:    {control_clicks}/{control_total}  (CTR = {control_rate:.4%}) \"\n",
    "      f\"[95% CI {ci_ctl_low:.4%}, {ci_ctl_high:.4%}]\")\n",
    "print(f\"Experiment: {exp_clicks}/{exp_total}  (CTR = {exp_rate:.4%}) \"\n",
    "      f\"[95% CI {ci_exp_low:.4%}, {ci_exp_high:.4%}]\")\n",
    "print()\n",
    "print(f\"Z-statistic (one-tailed exp>ctl): {z_stat:.4f}\")\n",
    "print(f\"p-value (one-tailed):             {p_value_one_tailed:.6f}\")\n",
    "print(f\"p-value (two-tailed, optional):   {p_value_two_tailed:.6f}\")\n",
    "\n",
    "alpha = 0.05\n",
    "decision = \"REJECT H0 (experiment > control)\" if p_value_one_tailed < alpha else \"FAIL TO REJECT H0\"\n",
    "print(f\"\\nDecision at α={alpha}: {decision}\")\n"
   ]
  },
  {
   "attachments": {},
   "cell_type": "markdown",
   "metadata": {},
   "source": [
    "## Verifying Results\n",
    "\n",
    "One sensible formulation of the data to answer the hypothesis test above would be to create a binary variable representing each individual in the experiment and control group. This binary variable would represent whether or not that individual clicked on the homepage; 1 for they did and 0 if they did not. \n",
    "\n",
    "The variance for the number of successes in a sample of a binomial variable with n observations is given by:\n",
    "\n",
    "## $n\\bullet p (1-p)$\n",
    "\n",
    "Given this, perform 3 steps to verify the results of your statistical test:\n",
    "1. Calculate the expected number of clicks for the experiment group, if it had the same click-through rate as that of the control group. \n",
    "2. Calculate the number of standard deviations that the actual number of clicks was from this estimate. \n",
    "3. Finally, calculate a p-value using the normal distribution based on this z-score."
   ]
  },
  {
   "attachments": {},
   "cell_type": "markdown",
   "metadata": {},
   "source": [
    "### Step 1:\n",
    "Calculate the expected number of clicks for the experiment group, if it had the same click-through rate as that of the control group. "
   ]
  },
  {
   "cell_type": "code",
   "execution_count": 6,
   "metadata": {},
   "outputs": [
    {
     "name": "stdout",
     "output_type": "stream",
     "text": [
      "Control CTR: 0.2797118847539016\n",
      "Expected experiment clicks (if same CTR as control): 838.0168067226891\n"
     ]
    }
   ],
   "source": [
    "#Your code here\n",
    "\n",
    "# Step 1: Expected clicks for experiment group if same CTR as control\n",
    "\n",
    "# Control group data\n",
    "control_clicks = 932\n",
    "control_views = 3332\n",
    "\n",
    "# Experiment group data\n",
    "exp_views = 2996\n",
    "\n",
    "# Control CTR\n",
    "control_ctr = control_clicks / control_views\n",
    "\n",
    "# Expected clicks in experiment if same CTR as control\n",
    "expected_exp_clicks = exp_views * control_ctr\n",
    "\n",
    "print(\"Control CTR:\", control_ctr)\n",
    "print(\"Expected experiment clicks (if same CTR as control):\", expected_exp_clicks)\n"
   ]
  },
  {
   "attachments": {},
   "cell_type": "markdown",
   "metadata": {},
   "source": [
    "### Step 2:\n",
    "Calculate the number of standard deviations that the actual number of clicks was from this estimate."
   ]
  },
  {
   "cell_type": "code",
   "execution_count": 7,
   "metadata": {},
   "outputs": [
    {
     "name": "stdout",
     "output_type": "stream",
     "text": [
      "Expected clicks (H0): 838.0168067226891\n",
      "Observed clicks: 928\n",
      "Standard deviation: 24.568547907005815\n",
      "Standard deviations away (z-score): 3.6625360854823588\n"
     ]
    }
   ],
   "source": [
    "#Your code here\n",
    "import math\n",
    "\n",
    "# Given data\n",
    "control_clicks = 932\n",
    "control_views = 3332\n",
    "exp_clicks = 928\n",
    "exp_views = 2996\n",
    "\n",
    "# Step 1: Control CTR and expected clicks in experiment\n",
    "control_ctr = control_clicks / control_views\n",
    "expected_exp_clicks = exp_views * control_ctr\n",
    "\n",
    "# Step 2: Standard deviation under H0\n",
    "variance = exp_views * control_ctr * (1 - control_ctr)\n",
    "std_dev = math.sqrt(variance)\n",
    "\n",
    "# Number of standard deviations (z-score without p-value yet)\n",
    "std_devs_away = (exp_clicks - expected_exp_clicks) / std_dev\n",
    "\n",
    "print(\"Expected clicks (H0):\", expected_exp_clicks)\n",
    "print(\"Observed clicks:\", exp_clicks)\n",
    "print(\"Standard deviation:\", std_dev)\n",
    "print(\"Standard deviations away (z-score):\", std_devs_away)\n"
   ]
  },
  {
   "attachments": {},
   "cell_type": "markdown",
   "metadata": {},
   "source": [
    "### Step 3: \n",
    "Finally, calculate a p-value using the normal distribution based on this z-score."
   ]
  },
  {
   "cell_type": "code",
   "execution_count": 8,
   "metadata": {},
   "outputs": [
    {
     "name": "stdout",
     "output_type": "stream",
     "text": [
      "Z-score: 3.6625360854823588\n",
      "One-tailed p-value: 0.00012486528006949715\n",
      "Two-tailed p-value: 0.0002497305601389943\n"
     ]
    }
   ],
   "source": [
    "#Your code here\n",
    "\n",
    "from scipy.stats import norm\n",
    "\n",
    "# Using z-score from Step 2\n",
    "z_score = std_devs_away   # from Step 2\n",
    "\n",
    "# One-tailed p-value (experiment > control)\n",
    "p_value_one_tailed = 1 - norm.cdf(z_score)\n",
    "\n",
    "# Two-tailed p-value (if needed)\n",
    "p_value_two_tailed = 2 * (1 - norm.cdf(abs(z_score)))\n",
    "\n",
    "print(\"Z-score:\", z_score)\n",
    "print(\"One-tailed p-value:\", p_value_one_tailed)\n",
    "print(\"Two-tailed p-value:\", p_value_two_tailed)\n"
   ]
  },
  {
   "attachments": {},
   "cell_type": "markdown",
   "metadata": {},
   "source": [
    "### Analysis:\n",
    "\n",
    "Does this result roughly match that of the previous statistical test?\n",
    "\n",
    "> Comment: Yes — the manual test and the z-test give slightly different numbers, but both show the same conclusion.\n",
    "The experiment homepage’s conversion rate is significantly higher than the control’s.\n",
    "Therefore, we reject the null hypothesis and confirm the new design is more effective"
   ]
  },
  {
   "attachments": {},
   "cell_type": "markdown",
   "metadata": {},
   "source": [
    "## Summary\n",
    "\n",
    "In this lab, you continued to get more practice designing and conducting AB tests. This required additional work preprocessing and formulating the initial problem in a suitable manner. Additionally, you also saw how to verify results, strengthening your knowledge of binomial variables, and reviewing initial statistical concepts of the central limit theorem, standard deviation, z-scores, and their accompanying p-values."
   ]
  }
 ],
 "metadata": {
  "kernelspec": {
   "display_name": "Python 3 (ipykernel)",
   "language": "python",
   "name": "python3"
  },
  "language_info": {
   "codemirror_mode": {
    "name": "ipython",
    "version": 3
   },
   "file_extension": ".py",
   "mimetype": "text/x-python",
   "name": "python",
   "nbconvert_exporter": "python",
   "pygments_lexer": "ipython3",
   "version": "3.10.18"
  }
 },
 "nbformat": 4,
 "nbformat_minor": 4
}
